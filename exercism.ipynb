{
  "nbformat": 4,
  "nbformat_minor": 0,
  "metadata": {
    "colab": {
      "provenance": [],
      "authorship_tag": "ABX9TyP81mo7k3dleV+2SDo8Vo7w",
      "include_colab_link": true
    },
    "kernelspec": {
      "name": "python3",
      "display_name": "Python 3"
    },
    "language_info": {
      "name": "python"
    }
  },
  "cells": [
    {
      "cell_type": "markdown",
      "metadata": {
        "id": "view-in-github",
        "colab_type": "text"
      },
      "source": [
        "<a href=\"https://colab.research.google.com/github/CodealThor/Exercism_Python/blob/main/exercism.ipynb\" target=\"_parent\"><img src=\"https://colab.research.google.com/assets/colab-badge.svg\" alt=\"Open In Colab\"/></a>"
      ]
    },
    {
      "cell_type": "code",
      "source": [
        "x = \"sia jon del roba!\"\n",
        "y = list(x)\n",
        "print(y)\n",
        "q = p =0\n",
        "for i in range(len(y)) :\n",
        "    if y[i] == 'j' :\n",
        "          q = q+1\n",
        "    else: p = p+1\n",
        "\n",
        "print(p,q)"
      ],
      "metadata": {
        "colab": {
          "base_uri": "https://localhost:8080/"
        },
        "id": "RRllcabA8ELh",
        "outputId": "b4ff0e0b-cb37-4c21-ca89-5cbf39880105"
      },
      "execution_count": null,
      "outputs": [
        {
          "output_type": "stream",
          "name": "stdout",
          "text": [
            "['s', 'i', 'a', ' ', 'j', 'o', 'n', ' ', 'd', 'e', 'l', ' ', 'r', 'o', 'b', 'a', '!']\n",
            "16 1\n"
          ]
        }
      ]
    },
    {
      "cell_type": "code",
      "source": [
        "def CP(hey_bob):      #DONE\n",
        "     return (hey_bob.isupper())\n",
        "\n",
        "def QM(hey_bob):     #DONE\n",
        "    aa = list(hey_bob)\n",
        "    if aa[-1]==\"?\" :\n",
        "      return True\n",
        "    else: return False\n",
        "\n",
        "\n",
        "\n",
        "def silent(hey_bob):       #DONE\n",
        "  aa = list(hey_bob)\n",
        "  if hey_bob==\"\" or \" \" :\n",
        "    return True\n",
        "  else:\n",
        "    for i in range(len(aa)):\n",
        "        if aa[i] == \" \" :\n",
        "               return True\n",
        "        else: return False\n",
        "\n"
      ],
      "metadata": {
        "id": "SpSjGYUi9Q2E"
      },
      "execution_count": null,
      "outputs": []
    },
    {
      "cell_type": "code",
      "execution_count": null,
      "metadata": {
        "colab": {
          "base_uri": "https://localhost:8080/"
        },
        "id": "zczQ8AssJLH7",
        "outputId": "ac7a04bb-fdab-4aff-9d1a-b36c5bbc1f48"
      },
      "outputs": [
        {
          "output_type": "stream",
          "name": "stdout",
          "text": [
            "80\n"
          ]
        }
      ],
      "source": [
        "def exchange_money(budget, exchange_rate):\n",
        "    \"\"\"\n",
        "\n",
        "    :param budget: float - amount of money you are planning to exchange.\n",
        "    :param exchange_rate: float - unit value of the foreign currency.\n",
        "    :return: float - exchanged value of the foreign currency you can receive.\n",
        "    \"\"\"\n",
        "\n",
        "    exchange_currency = (budget) / (exchange_rate)\n",
        "    return exchange_currency\n",
        "\n",
        "def get_change(budget, exchanging_value):\n",
        "    \"\"\"\n",
        "\n",
        "    :param budget: float - amount of money you own.\n",
        "    :param exchanging_value: float - amount of your money you want to exchange now.\n",
        "    :return: float - amount left of your starting currency after exchanging.\n",
        "    \"\"\"\n",
        "\n",
        "    left = budget - exchanging_value\n",
        "    return left\n",
        "\n",
        "\n",
        "def get_value_of_bills(denomination, number_of_bills):\n",
        "    \"\"\"\n",
        "\n",
        "    :param denomination: int - the value of a bill.\n",
        "    :param number_of_bills: int - amount of bills you received.\n",
        "    :return: int - total value of bills you now have.\n",
        "    \"\"\"\n",
        "\n",
        "    tb =  denomination * number_of_bills\n",
        "    tb = int(tb)\n",
        "    return tb\n",
        "\n",
        "\n",
        "def get_number_of_bills(budget, denomination):\n",
        "    \"\"\"\n",
        "\n",
        "    :param budget: float - the amount of money you are planning to exchange.\n",
        "    :param denomination: int - the value of a single bill.\n",
        "    :return: int - number of bills after exchanging all your money.\n",
        "    \"\"\"\n",
        "\n",
        "    bd = (budget) / (denomination)\n",
        "    bd = int(bd)\n",
        "    return bd\n",
        "\n",
        "def get_leftover_of_bills(budget, denomination):\n",
        "    \"\"\"\n",
        "\n",
        "    :param budget: float - the amount of money you are planning to exchange.\n",
        "    :param denomination: int - the value of a single bill.\n",
        "    :return: float - the leftover amount that cannot be exchanged given the current denomination.\n",
        "    \"\"\"\n",
        "\n",
        "    bd = (budget) / (denomination)\n",
        "    stor = bd * denomination\n",
        "    leftover = budget - stor\n",
        "    return leftover\n",
        "\n",
        "def exchangeable_value(budget, exchange_rate, spread, denomination):\n",
        "    \"\"\"\n",
        "\n",
        "    :param budget: float - the amount of your money you are planning to exchange.\n",
        "    :param exchange_rate: float - the unit value of the foreign currency.\n",
        "    :param spread: int - percentage that is taken as an exchange fee.\n",
        "    :param denomination: int - the value of a single bill.\n",
        "    :return: int - maximum value you can get.\n",
        "    \"\"\"\n",
        "\n",
        "    spread_decimal = spread / 100.0\n",
        "    effective_rate = exchange_rate * (1+spread_decimal)\n",
        "    max_value = budget / effective_rate\n",
        "    max_value = int(max_value/denomination) * denomination\n",
        "    return max_value\n",
        "\n",
        "\n",
        "o = exchangeable_value(127.5,1.20,10,20)\n",
        "print(o)"
      ]
    },
    {
      "cell_type": "code",
      "source": [
        "def year_leap(x) :\n",
        "  if x%4 == 0 :\n",
        "    if x%100 == 0 :\n",
        "      if x%400 == 0 :\n",
        "        return True #4\n",
        "      else : return False #2\n",
        "    else : return True #3\n",
        "  else : return False #1\n",
        "\n",
        "year_leap(1900)"
      ],
      "metadata": {
        "colab": {
          "base_uri": "https://localhost:8080/"
        },
        "id": "koBMSb5blDWI",
        "outputId": "de445745-1abd-474b-94ac-8b9fa46f31c2"
      },
      "execution_count": null,
      "outputs": [
        {
          "output_type": "execute_result",
          "data": {
            "text/plain": [
              "False"
            ]
          },
          "metadata": {},
          "execution_count": 10
        }
      ]
    },
    {
      "cell_type": "code",
      "source": [
        "def sqaure (a,b):\n",
        "  s=1\n",
        "  for i in range(1,b+1) :\n",
        "    s = s * a\n",
        "  return s\n",
        "def is_armstrong_number(number):\n",
        "    m=0\n",
        "    x=number\n",
        "    while x > 1 :\n",
        "      x = x/10\n",
        "      m= m+1\n",
        "    number_list = list(number)\n",
        "    Ali = 0\n",
        "    for i in range(len(number_list)) :\n",
        "      Ali = Ali + sqaure(number_list,m)\n",
        "    if Ali == number :\n",
        "      return True\n",
        "    else : return False\n",
        "\n",
        "\n",
        "is_armstrong_number (153)"
      ],
      "metadata": {
        "colab": {
          "base_uri": "https://localhost:8080/",
          "height": 331
        },
        "id": "0vXIO-VTsugf",
        "outputId": "0e6a64a0-4b53-4cf6-a8c2-92280b162ac8"
      },
      "execution_count": null,
      "outputs": [
        {
          "output_type": "error",
          "ename": "TypeError",
          "evalue": "ignored",
          "traceback": [
            "\u001b[0;31m---------------------------------------------------------------------------\u001b[0m",
            "\u001b[0;31mTypeError\u001b[0m                                 Traceback (most recent call last)",
            "\u001b[0;32m<ipython-input-5-c8e652d64234>\u001b[0m in \u001b[0;36m<cell line: 21>\u001b[0;34m()\u001b[0m\n\u001b[1;32m     19\u001b[0m \u001b[0;34m\u001b[0m\u001b[0m\n\u001b[1;32m     20\u001b[0m \u001b[0;34m\u001b[0m\u001b[0m\n\u001b[0;32m---> 21\u001b[0;31m \u001b[0mis_armstrong_number\u001b[0m \u001b[0;34m(\u001b[0m\u001b[0;36m153\u001b[0m\u001b[0;34m)\u001b[0m\u001b[0;34m\u001b[0m\u001b[0;34m\u001b[0m\u001b[0m\n\u001b[0m",
            "\u001b[0;32m<ipython-input-5-c8e652d64234>\u001b[0m in \u001b[0;36mis_armstrong_number\u001b[0;34m(number)\u001b[0m\n\u001b[1;32m     10\u001b[0m       \u001b[0mx\u001b[0m \u001b[0;34m=\u001b[0m \u001b[0mx\u001b[0m\u001b[0;34m/\u001b[0m\u001b[0;36m10\u001b[0m\u001b[0;34m\u001b[0m\u001b[0;34m\u001b[0m\u001b[0m\n\u001b[1;32m     11\u001b[0m       \u001b[0mm\u001b[0m\u001b[0;34m=\u001b[0m \u001b[0mm\u001b[0m\u001b[0;34m+\u001b[0m\u001b[0;36m1\u001b[0m\u001b[0;34m\u001b[0m\u001b[0;34m\u001b[0m\u001b[0m\n\u001b[0;32m---> 12\u001b[0;31m     \u001b[0mnumber_list\u001b[0m \u001b[0;34m=\u001b[0m \u001b[0mlist\u001b[0m\u001b[0;34m(\u001b[0m\u001b[0mnumber\u001b[0m\u001b[0;34m)\u001b[0m\u001b[0;34m\u001b[0m\u001b[0;34m\u001b[0m\u001b[0m\n\u001b[0m\u001b[1;32m     13\u001b[0m     \u001b[0mAli\u001b[0m \u001b[0;34m=\u001b[0m \u001b[0;36m0\u001b[0m\u001b[0;34m\u001b[0m\u001b[0;34m\u001b[0m\u001b[0m\n\u001b[1;32m     14\u001b[0m     \u001b[0;32mfor\u001b[0m \u001b[0mi\u001b[0m \u001b[0;32min\u001b[0m \u001b[0mrange\u001b[0m\u001b[0;34m(\u001b[0m\u001b[0mlen\u001b[0m\u001b[0;34m(\u001b[0m\u001b[0mnumber_list\u001b[0m\u001b[0;34m)\u001b[0m\u001b[0;34m)\u001b[0m \u001b[0;34m:\u001b[0m\u001b[0;34m\u001b[0m\u001b[0;34m\u001b[0m\u001b[0m\n",
            "\u001b[0;31mTypeError\u001b[0m: 'int' object is not iterable"
          ]
        }
      ]
    },
    {
      "cell_type": "code",
      "source": [
        "def is_criticalitif T < 800 and N > 500 and T*N < 500000 :\n",
        "    return True\n",
        "  else y_balanced(temperature, neutrons_emitted):\n",
        "  T = temperature\n",
        "  N = neutrons_emitted\n",
        "  : return False\n",
        "\n",
        "x = is_criticality_balanced(750,800)\n",
        "print(x)"
      ],
      "metadata": {
        "colab": {
          "base_uri": "https://localhost:8080/"
        },
        "id": "8-GCduq9kjTp",
        "outputId": "5ae0d42d-7d86-44c5-f27b-ded0cf184115"
      },
      "execution_count": null,
      "outputs": [
        {
          "output_type": "stream",
          "name": "stdout",
          "text": [
            "False\n"
          ]
        }
      ]
    },
    {
      "cell_type": "code",
      "source": [
        "def fuck(P,T) :\n",
        "    W = 1\n",
        "    for i in range(T) :\n",
        "        W = P*W\n",
        "    return W\n",
        "\n",
        "def square(number):\n",
        "    q = fuck(2,number-1)\n",
        "    return q\n",
        "\n",
        "def total() :\n",
        "  j=0\n",
        "  for i in range(1,65) :\n",
        "    j = j + square(i)\n",
        "  return j\n",
        "\n",
        "total()"
      ],
      "metadata": {
        "colab": {
          "base_uri": "https://localhost:8080/"
        },
        "id": "qQ0WbyemyPCg",
        "outputId": "8497a3e5-298a-406c-e721-3a42eeaf6249"
      },
      "execution_count": null,
      "outputs": [
        {
          "output_type": "execute_result",
          "data": {
            "text/plain": [
              "18446744073709551615"
            ]
          },
          "metadata": {},
          "execution_count": 39
        }
      ]
    },
    {
      "cell_type": "code",
      "source": [
        "def is_armstrong_number(number):\n",
        "  num_str = str(number)\n",
        "  order = len(num_str)\n",
        "  digit_sum = sum(int(digit) ** order for digit in num_str)\n",
        "  return number == digit_sum\n",
        "\n",
        "is_armstrong_number(458)"
      ],
      "metadata": {
        "colab": {
          "base_uri": "https://localhost:8080/"
        },
        "id": "3yIOusEWtWmp",
        "outputId": "fa904c0d-8abf-4742-c5a0-af9745895e56"
      },
      "execution_count": null,
      "outputs": [
        {
          "output_type": "execute_result",
          "data": {
            "text/plain": [
              "False"
            ]
          },
          "metadata": {},
          "execution_count": 3
        }
      ]
    },
    {
      "cell_type": "code",
      "source": [
        "def test(sides) :\n",
        "    a = sides[0]\n",
        "    b = sides[1]\n",
        "    c = sides[2]\n",
        "    if a+b >= c and a+c >= b and b+c >= a :\n",
        "        return True\n",
        "    else: return False\n",
        "\n",
        "\n",
        "\n",
        "def equilateral(sides):\n",
        "    if test(sides) == True :\n",
        "        if a==b and b==c and c==a :\n",
        "             return True\n",
        "        else: return False\n",
        "\n",
        "    else: return False\n",
        "\n",
        "\n",
        "def isosceles(sides):\n",
        "    if test(sides) == True :\n",
        "        if equilateral(sides) == False :\n",
        "            if a==b or b==c or a==c :\n",
        "                   return True\n",
        "        else: return False\n",
        "    else: return False\n",
        "\n",
        "\n",
        "def scalene(sides):\n",
        "    if test(sides) == True :\n",
        "        if a!=b and a!=c and b!=c:\n",
        "            return True\n",
        "        else: return False\n",
        "    else: return False"
      ],
      "metadata": {
        "id": "2sG_8jpvEzWY"
      },
      "execution_count": null,
      "outputs": []
    },
    {
      "cell_type": "markdown",
      "source": [],
      "metadata": {
        "id": "fy7U0mTRc0O-"
      }
    },
    {
      "cell_type": "code",
      "source": [
        "def check_number(number):\n",
        "    if number%2 == 0 :\n",
        "        return True\n",
        "    else: return False\n",
        "\n",
        "\n",
        "def steps(number):\n",
        "    i = 0\n",
        "    if number <= 0 or type(number) != int :\n",
        "        raise ValueError(\"Only positive integers are allowed\")\n",
        "    while number != 1 :\n",
        "      i = i+1\n",
        "      if check_number(number) == True :\n",
        "        number = number/2\n",
        "      else: number = 3*(number) + 1\n",
        "    return i\n",
        "\n",
        "steps(12)"
      ],
      "metadata": {
        "colab": {
          "base_uri": "https://localhost:8080/"
        },
        "id": "voe0EYlWRfY4",
        "outputId": "d9a7615a-bddd-4b23-cd77-1a344a7ae898"
      },
      "execution_count": null,
      "outputs": [
        {
          "output_type": "execute_result",
          "data": {
            "text/plain": [
              "9"
            ]
          },
          "metadata": {},
          "execution_count": 12
        }
      ]
    },
    {
      "cell_type": "code",
      "source": [
        "def convert(number) :\n",
        "  q=p=t= False\n",
        "  g = 0\n",
        "  if number%3 == 0 :\n",
        "    q= True\n",
        "  if number%5 == 0 :\n",
        "    p= True\n",
        "  if number%7 == 0 :\n",
        "    t = True\n",
        "  if q == False and p == False and t == False :\n",
        "    return str(number)        #G\n",
        "  if q == True and p == True and t == True : g = \"PlingPlangPlong\"  #A\n",
        "  elif q == True and p == True and t == False : g = \"PlingPlang\"    #B\n",
        "  elif q == True and p == False and t == False : g = \"Pling\"        #C\n",
        "  elif p == True and t == True and q == False : g = \"PlangPlong\"    #D\n",
        "  elif p == True and t == False and q == False : g = \"Plang\"        #E\n",
        "  elif q == True and t == True and p == False: g = \"PlingPlong\"     #H\n",
        "  elif t == True and p == False and q == False : g = \"Plong\"        #F\n",
        "  print(q,p,t)\n",
        "  return g\n",
        "\n",
        "convert(21)\n"
      ],
      "metadata": {
        "colab": {
          "base_uri": "https://localhost:8080/",
          "height": 53
        },
        "id": "d7SP_SV585-Q",
        "outputId": "f0209610-92e9-44a1-c8e2-b71b20b424f9"
      },
      "execution_count": 16,
      "outputs": [
        {
          "output_type": "stream",
          "name": "stdout",
          "text": [
            "True False True\n"
          ]
        },
        {
          "output_type": "execute_result",
          "data": {
            "text/plain": [
              "'PlingPlong'"
            ],
            "application/vnd.google.colaboratory.intrinsic+json": {
              "type": "string"
            }
          },
          "metadata": {},
          "execution_count": 16
        }
      ]
    }
  ]
}