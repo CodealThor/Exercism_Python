{
  "nbformat": 4,
  "nbformat_minor": 0,
  "metadata": {
    "colab": {
      "provenance": [],
      "authorship_tag": "ABX9TyOrohFGDPIOGXhT9jcREN1R",
      "include_colab_link": true
    },
    "kernelspec": {
      "name": "python3",
      "display_name": "Python 3"
    },
    "language_info": {
      "name": "python"
    }
  },
  "cells": [
    {
      "cell_type": "markdown",
      "metadata": {
        "id": "view-in-github",
        "colab_type": "text"
      },
      "source": [
        "<a href=\"https://colab.research.google.com/github/CodealThor/Exercism_Python/blob/main/exercism.ipynb\" target=\"_parent\"><img src=\"https://colab.research.google.com/assets/colab-badge.svg\" alt=\"Open In Colab\"/></a>"
      ]
    },
    {
      "cell_type": "markdown",
      "source": [
        "**Introduction:**\n",
        "\n",
        "Numbers:\n",
        "There are three different kinds of built-in numbers in Python : ints, floats, and complex. However, in this exercise you'll be dealing only with ints and floats.\n",
        "\n",
        "ints:\n",
        "ints are whole numbers. e.g. 1234, -10, 20201278.\n",
        "Integers in Python have arbitrary precision -- the amount of digits is limited only by the available memory of the host system.\n",
        "\n",
        "floats:\n",
        "floats are numbers containing a decimal point. e.g. 0.0,3.14,-9.01.\n",
        "Floating point numbers are usually implemented in Python using a double in C (15 decimal places of precision), but will vary in representation based on the host system and other implementation details. This can create some surprises when working with floats, but is \"good enough\" for most situations.\n",
        "\n",
        "**Instructions**\n",
        "\n",
        "Your friend Chandler plans to visit exotic countries all around the world. Sadly, Chandler's math skills aren't good. He's pretty worried about being scammed by currency exchanges during his trip - and he wants you to make a currency calculator for him."
      ],
      "metadata": {
        "id": "TYzkR80ZOtpM"
      }
    },
    {
      "cell_type": "code",
      "source": [
        "def exchange_money(budget, exchange_rate):\n",
        "    \"\"\"\n",
        "\n",
        "    :param budget: float - amount of money you are planning to exchange.\n",
        "    :param exchange_rate: float - unit value of the foreign currency.\n",
        "    :return: float - exchanged value of the foreign currency you can receive.\n",
        "    \"\"\"\n",
        "\n",
        "    exchange_currency = (budget) / (exchange_rate)\n",
        "    return exchange_currency\n",
        "\n",
        "\n",
        "def get_change(budget, exchanging_value):\n",
        "    \"\"\"\n",
        "\n",
        "    :param budget: float - amount of money you own.\n",
        "    :param exchanging_value: float - amount of your money you want to exchange now.\n",
        "    :return: float - amount left of your starting currency after exchanging.\n",
        "    \"\"\"\n",
        "\n",
        "    left = budget - exchanging_value\n",
        "    return left\n",
        "\n",
        "\n",
        "def get_value_of_bills(denomination, number_of_bills):\n",
        "    \"\"\"\n",
        "\n",
        "    :param denomination: int - the value of a bill.\n",
        "    :param number_of_bills: int - amount of bills you received.\n",
        "    :return: int - total value of bills you now have.\n",
        "    \"\"\"\n",
        "\n",
        "    tb =  denomination * number_of_bills\n",
        "    tb = int(tb)\n",
        "    return tb\n",
        "\n",
        "\n",
        "def get_number_of_bills(budget, denomination):\n",
        "    \"\"\"\n",
        "\n",
        "    :param budget: float - the amount of money you are planning to exchange.\n",
        "    :param denomination: int - the value of a single bill.\n",
        "    :return: int - number of bills after exchanging all your money.\n",
        "    \"\"\"\n",
        "\n",
        "    bd = (budget) / (denomination)\n",
        "    bd = int(bd)\n",
        "    return bd\n",
        "\n",
        "\n",
        "def get_leftover_of_bills(budget, denomination):\n",
        "    \"\"\"\n",
        "\n",
        "    :param budget: float - the amount of money you are planning to exchange.\n",
        "    :param denomination: int - the value of a single bill.\n",
        "    :return: float - the leftover amount that cannot be exchanged given the current denomination.\n",
        "    \"\"\"\n",
        "\n",
        "\n",
        "    a = budget/denomination\n",
        "    a = int(a)\n",
        "    b = a*denomination\n",
        "    leftover = budget - b\n",
        "    return leftover\n",
        "\n",
        "def exchangeable_value(budget, exchange_rate, spread, denomination):\n",
        "    \"\"\"\n",
        "\n",
        "    :param budget: float - the amount of your money you are planning to exchange.\n",
        "    :param exchange_rate: float - the unit value of the foreign currency.\n",
        "    :param spread: int - percentage that is taken as an exchange fee.\n",
        "    :param denomination: int - the value of a single bill.\n",
        "    :return: int - maximum value you can get.\n",
        "    \"\"\"\n",
        "\n",
        "    spread_decimal = spread / 100.0\n",
        "    effective_rate = exchange_rate * (1+spread_decimal)\n",
        "    max_value = budget / effective_rate\n",
        "    max_value = int(max_value/denomination) * denomination\n",
        "    return max_value\n"
      ],
      "metadata": {
        "id": "RRllcabA8ELh"
      },
      "execution_count": 18,
      "outputs": []
    },
    {
      "cell_type": "markdown",
      "source": [
        "**Raindrops**\n",
        "\n",
        "\n",
        "**Instructions**:\n",
        "Your task is to convert a number into a string that contains raindrop sounds corresponding to certain potential factors. A factor is a number that evenly divides into another number, leaving no remainder. The simplest way to test if one number is a factor of another is to use the modulo operation.\n",
        "\n",
        "The rules of raindrops are that if a given number:\n",
        "\n",
        "has 3 as a factor, add 'Pling' to the result.\n",
        "has 5 as a factor, add 'Plang' to the result.\n",
        "has 7 as a factor, add 'Plong' to the result.\n",
        "does not have any of 3, 5, or 7 as a factor, the result should be the digits of the number."
      ],
      "metadata": {
        "id": "COAFQeyDSB4S"
      }
    },
    {
      "cell_type": "code",
      "source": [
        "#my original code\n",
        "\n",
        "def convert(number) :\n",
        "  q=p=t= False\n",
        "  g = 0\n",
        "  if number%3 == 0 :\n",
        "    q= True\n",
        "  if number%5 == 0 :\n",
        "    p= True\n",
        "  if number%7 == 0 :\n",
        "    t = True\n",
        "  if q == False and p == False and t == False :\n",
        "    return str(number)        #G\n",
        "  if q == True and p == True and t == True : g = \"PlingPlangPlong\"  #A\n",
        "  elif q == True and p == True and t == False : g = \"PlingPlang\"    #B\n",
        "  elif q == True and p == False and t == False : g = \"Pling\"        #C\n",
        "  elif p == True and t == True and q == False : g = \"PlangPlong\"    #D\n",
        "  elif p == True and t == False and q == False : g = \"Plang\"        #E\n",
        "  elif q == True and t == True and p == False: g = \"PlingPlong\"     #H\n",
        "  elif t == True and p == False and q == False : g = \"Plong\"        #F\n",
        "\n",
        "  return g\n",
        "\n",
        "#my code after menoring by \"rayray\" and rayray explains to me the task and this is how we do it again :\n",
        "def convert_2(number):\n",
        "  sounds = ''\n",
        "\n",
        "  # check if sound is a factor of 3, if yes, add `Pling`\n",
        "  if sound % 3 == 0:\n",
        "     sound += 'Pling'\n",
        "  # check if sound is a factor of 5, if yes, add `Plang`\n",
        "  if sound % 5 == 0:\n",
        "     sound += 'Plang'\n",
        "  # check if sound is a factor of 7, if yes, add `Plong`\n",
        "  if sound % 7 == 0:\n",
        "     sound += 'Plong'\n",
        "\n",
        "  # if sound is empty, i.e is an empty raindrop,\n",
        "  # return the number as a string, otherwise,\n",
        "  # return the sound made\n",
        "  if sound == '':\n",
        "     return str(number)\n",
        "  else:\n",
        "     return sound"
      ],
      "metadata": {
        "id": "VpqncwSVSOIy"
      },
      "execution_count": 20,
      "outputs": []
    }
  ]
}